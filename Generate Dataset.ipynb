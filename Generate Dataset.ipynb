{
 "cells": [
  {
   "cell_type": "code",
   "execution_count": 1,
   "id": "5663c6e8",
   "metadata": {},
   "outputs": [],
   "source": [
    "# Leave lines below uncommented this if you get:\n",
    "# OMP: Error #15: Initializing libiomp5md.dll, but found libiomp5md.dll already initialized.\n",
    "import os\n",
    "os.environ['KMP_DUPLICATE_LIB_OK']='True'\n",
    "\n",
    "import torch\n",
    "import torch.nn\n",
    "import numpy as np\n",
    "import matplotlib.pyplot as plt\n",
    "from tqdm.auto import tqdm"
   ]
  },
  {
   "cell_type": "code",
   "execution_count": 2,
   "id": "a3a3550c",
   "metadata": {},
   "outputs": [],
   "source": [
    "from glomerulus import Glomerulus, Patch, KidneySampleDataset, generate_patches\n",
    "from networks import CBAM_R2UNet_v2\n",
    "from utils import read_tiff, dataset_label_mean\n",
    "from losses import dice_loss"
   ]
  },
  {
   "cell_type": "code",
   "execution_count": 3,
   "id": "179466ea",
   "metadata": {},
   "outputs": [],
   "source": [
    "# train_image_names = [\n",
    "#     'afa5e8098',\n",
    "#     '4ef6695ce',\n",
    "#     'c68fe75ea',\n",
    "#     '26dc41664',\n",
    "#     '095bf7a1f',\n",
    "#     '54f2eec69',\n",
    "#     '1e2425f28',\n",
    "#     'e79de561c',\n",
    "#     'cb2d976f4',\n",
    "#     'b9a3865fc',\n",
    "#     '8242609fa',\n",
    "#     '0486052bb',\n",
    "#     '2f6ecfcdf',\n",
    "# ]\n",
    "\n",
    "train_image_names = [\n",
    "    'b2dc8411c',\n",
    "    # 'aaa6a05cc'\n",
    "]\n",
    "\n",
    "val_image_names = [\n",
    "    # 'b2dc8411c',\n",
    "    'aaa6a05cc'\n",
    "]\n",
    "\n",
    "root_dir = './dataset/train'\n",
    "\n",
    "patch_size = 512\n",
    "num_train_samples = 1000\n",
    "num_val_samples = 200\n",
    "\n",
    "glomerulus_patch_ratio = 0.8\n",
    "random_patch_ratio = 0.2"
   ]
  },
  {
   "cell_type": "code",
   "execution_count": null,
   "id": "f96eb343",
   "metadata": {},
   "outputs": [
    {
     "data": {
      "application/vnd.jupyter.widget-view+json": {
       "model_id": "3be2d2641c3442c4bc5a9fc4c04d9d79",
       "version_major": 2,
       "version_minor": 0
      },
      "text/plain": [
       "Loading Train Images:   0%|          | 0/1 [00:00<?, ?it/s]"
      ]
     },
     "metadata": {},
     "output_type": "display_data"
    },
    {
     "name": "stderr",
     "output_type": "stream",
     "text": [
      "/home/patipol/Documents/automated-visual-acuity-tester/speech-model/whisper_env/lib/python3.10/site-packages/rasterio/__init__.py:304: NotGeoreferencedWarning: Dataset has no geotransform, gcps, or rpcs. The identity matrix will be returned.\n",
      "  dataset = DatasetReader(path, driver=driver, sharing=sharing, **kwargs)\n"
     ]
    },
    {
     "data": {
      "application/vnd.jupyter.widget-view+json": {
       "model_id": "a4b9dbc3f3ed4841b9baf3f3f8bc2a4d",
       "version_major": 2,
       "version_minor": 0
      },
      "text/plain": [
       "Rendering Patches:   0%|          | 0/1000 [00:00<?, ?it/s]"
      ]
     },
     "metadata": {},
     "output_type": "display_data"
    },
    {
     "data": {
      "application/vnd.jupyter.widget-view+json": {
       "model_id": "cfb8fe51753749faba17dd5c4f89b04a",
       "version_major": 2,
       "version_minor": 0
      },
      "text/plain": [
       "Appending Generated Datasets:   0%|          | 0/1 [00:00<?, ?it/s]"
      ]
     },
     "metadata": {},
     "output_type": "display_data"
    },
    {
     "data": {
      "application/vnd.jupyter.widget-view+json": {
       "model_id": "a1afbf4fecf14603b88325d1ab61ca73",
       "version_major": 2,
       "version_minor": 0
      },
      "text/plain": [
       "Loading Train Images:   0%|          | 0/1 [00:00<?, ?it/s]"
      ]
     },
     "metadata": {},
     "output_type": "display_data"
    },
    {
     "data": {
      "application/vnd.jupyter.widget-view+json": {
       "model_id": "d47821f2de34489c8152f26302291cc4",
       "version_major": 2,
       "version_minor": 0
      },
      "text/plain": [
       "Rendering Patches:   0%|          | 0/1000 [00:00<?, ?it/s]"
      ]
     },
     "metadata": {},
     "output_type": "display_data"
    }
   ],
   "source": [
    "patches = []\n",
    "dataset_dir = './samples_dataset'\n",
    "\n",
    "for ratio in range(0, 11):\n",
    "    glomerulus_patch_ratio = np.round(ratio/10, 1)\n",
    "    random_patch_ratio = np.round(1 - glomerulus_patch_ratio, 1)\n",
    "\n",
    "    # Iterate through all images used for training\n",
    "    for idx, image_name in enumerate(tqdm(train_image_names, desc='Loading Train Images')):\n",
    "        image_path = os.path.join(root_dir, f'{image_name}.tiff')\n",
    "        label_path = os.path.join(root_dir, f'{image_name}.json')\n",
    "        try:\n",
    "            # Sample patches from the image\n",
    "            patches = generate_patches(\n",
    "                patch_size = patch_size,\n",
    "                num_samples = num_train_samples,\n",
    "                image_path = image_path,\n",
    "                label_path = label_path,\n",
    "                # Dataset ratio config\n",
    "                glomerulus_patch_ratio = glomerulus_patch_ratio,\n",
    "                random_patch_ratio = random_patch_ratio,\n",
    "                empty_patch = 0\n",
    "            )\n",
    "            \n",
    "            # Create a dataset object from sampled patches and save as temp file (to save RAM when loading new imgs)\n",
    "            dataset = KidneySampleDataset(patches)\n",
    "            dataset.save(os.path.join(dataset_dir, f'train_chunk_{idx}.npy'))\n",
    "        except:\n",
    "            print('Error generating patches {image_path}')\n",
    "            \n",
    "    # Read saved temp dataset chunks and append as 1 single dataset\n",
    "    train_dataset = KidneySampleDataset()\n",
    "    for idx in tqdm(range(len(train_image_names)), desc='Appending Generated Datasets'):\n",
    "        tmp_dataset = KidneySampleDataset()\n",
    "        try:\n",
    "            tmp_dataset.load(os.path.join(dataset_dir, f'train_chunk_{idx}.npy'))\n",
    "            train_dataset.append_data(tmp_dataset)\n",
    "        except:\n",
    "            print(f'Error loading chunk {idx}')\n",
    "    train_dataset.save(os.path.join(dataset_dir, f'train_{str(glomerulus_patch_ratio)}_{str(random_patch_ratio)}.npy'))\n",
    "\n",
    "glomerulus_patch_ratio = 0\n",
    "random_patch_ratio = 1\n",
    "            \n",
    "# Iterate through all images used for validating\n",
    "for idx, image_name in enumerate(tqdm(val_image_names, desc='Loading Val Images')):\n",
    "    image_path = os.path.join(root_dir, f'{image_name}.tiff')\n",
    "    label_path = os.path.join(root_dir, f'{image_name}.json')\n",
    "    try:\n",
    "        # Sample patches from the image\n",
    "        patches = generate_patches(\n",
    "            patch_size = patch_size,\n",
    "            num_samples = num_val_samples,\n",
    "            image_path = image_path,\n",
    "            label_path = label_path,\n",
    "            # Dataset ratio config\n",
    "            glomerulus_patch_ratio = glomerulus_patch_ratio,\n",
    "            random_patch_ratio = random_patch_ratio,\n",
    "            empty_patch = 0\n",
    "        )\n",
    "        \n",
    "        # Create a dataset object from sampled patches and save as temp file (to save RAM when loading new imgs)\n",
    "        dataset = KidneySampleDataset(patches)\n",
    "        dataset.save(os.path.join(dataset_dir, f'val_chunk_{idx}.npy'))\n",
    "    except:\n",
    "        print('Error generating patches {image_path}')\n",
    "        \n",
    "# Read saved temp dataset chunks and append as 1 single dataset\n",
    "val_dataset = KidneySampleDataset()\n",
    "for idx in tqdm(range(len(val_image_names)), desc='Appending Generated Datasets'):\n",
    "    tmp_dataset = KidneySampleDataset()\n",
    "    try:\n",
    "        tmp_dataset.load(os.path.join(dataset_dir, f'val_chunk_{idx}.npy'))\n",
    "        val_dataset.append_data(tmp_dataset)\n",
    "    except:\n",
    "        print(f'Error loading chunk {idx}')\n",
    "val_dataset.save(os.path.join(dataset_dir, f'val.npy'))"
   ]
  },
  {
   "cell_type": "code",
   "execution_count": null,
   "id": "a8ea0aa5",
   "metadata": {},
   "outputs": [],
   "source": [
    "dataset[0]"
   ]
  },
  {
   "cell_type": "code",
   "execution_count": null,
   "id": "363b6d37",
   "metadata": {},
   "outputs": [],
   "source": []
  }
 ],
 "metadata": {
  "kernelspec": {
   "display_name": "Python 3 (ipykernel)",
   "language": "python",
   "name": "python3"
  },
  "language_info": {
   "codemirror_mode": {
    "name": "ipython",
    "version": 3
   },
   "file_extension": ".py",
   "mimetype": "text/x-python",
   "name": "python",
   "nbconvert_exporter": "python",
   "pygments_lexer": "ipython3",
   "version": "3.10.6"
  }
 },
 "nbformat": 4,
 "nbformat_minor": 5
}
